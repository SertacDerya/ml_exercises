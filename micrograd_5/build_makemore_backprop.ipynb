{
 "cells": [
  {
   "cell_type": "code",
   "execution_count": 1,
   "metadata": {},
   "outputs": [],
   "source": [
    "import torch\n",
    "import torch.nn.functional as F\n",
    "import numpy as np\n",
    "import matplotlib.pyplot as plt # for making figures\n",
    "%matplotlib inline"
   ]
  },
  {
   "cell_type": "code",
   "execution_count": 2,
   "metadata": {},
   "outputs": [
    {
     "name": "stdout",
     "output_type": "stream",
     "text": [
      "--2024-02-06 15:48:12--  https://raw.githubusercontent.com/karpathy/makemore/master/names.txt\n",
      "Resolving raw.githubusercontent.com (raw.githubusercontent.com)... 185.199.109.133, 185.199.110.133, 185.199.111.133, ...\n",
      "Connecting to raw.githubusercontent.com (raw.githubusercontent.com)|185.199.109.133|:443... connected.\n",
      "HTTP request sent, awaiting response... 200 OK\n",
      "Length: 228145 (223K) [text/plain]\n",
      "Saving to: ‘names.txt.5’\n",
      "\n",
      "names.txt.5         100%[===================>] 222.80K  1.33MB/s    in 0.2s    \n",
      "\n",
      "2024-02-06 15:48:12 (1.33 MB/s) - ‘names.txt.5’ saved [228145/228145]\n",
      "\n"
     ]
    }
   ],
   "source": [
    "# download the names.txt file from github\n",
    "!wget https://raw.githubusercontent.com/karpathy/makemore/master/names.txt"
   ]
  },
  {
   "cell_type": "code",
   "execution_count": 3,
   "metadata": {},
   "outputs": [
    {
     "name": "stdout",
     "output_type": "stream",
     "text": [
      "32033\n",
      "15\n",
      "['emma', 'olivia', 'ava', 'isabella', 'sophia', 'charlotte', 'mia', 'amelia']\n"
     ]
    }
   ],
   "source": [
    "# read in all the words\n",
    "words = open('names.txt', 'r').read().splitlines()\n",
    "print(len(words))\n",
    "print(max(len(w) for w in words))\n",
    "print(words[:8])"
   ]
  },
  {
   "cell_type": "code",
   "execution_count": 4,
   "metadata": {},
   "outputs": [
    {
     "name": "stdout",
     "output_type": "stream",
     "text": [
      "{1: 'a', 2: 'b', 3: 'c', 4: 'd', 5: 'e', 6: 'f', 7: 'g', 8: 'h', 9: 'i', 10: 'j', 11: 'k', 12: 'l', 13: 'm', 14: 'n', 15: 'o', 16: 'p', 17: 'q', 18: 'r', 19: 's', 20: 't', 21: 'u', 22: 'v', 23: 'w', 24: 'x', 25: 'y', 26: 'z', 0: '.'}\n",
      "27\n"
     ]
    }
   ],
   "source": [
    "# build the vocabulary of characters and mappings to/from integers\n",
    "chars = sorted(list(set(''.join(words))))\n",
    "stoi = {s:i+1 for i,s in enumerate(chars)}\n",
    "stoi['.'] = 0\n",
    "itos = {i:s for s,i in stoi.items()}\n",
    "vocab_size = len(itos)\n",
    "print(itos)\n",
    "print(vocab_size)"
   ]
  },
  {
   "cell_type": "code",
   "execution_count": 5,
   "metadata": {},
   "outputs": [
    {
     "name": "stdout",
     "output_type": "stream",
     "text": [
      "torch.Size([182625, 3]) torch.Size([182625])\n",
      "torch.Size([22655, 3]) torch.Size([22655])\n",
      "torch.Size([22866, 3]) torch.Size([22866])\n"
     ]
    }
   ],
   "source": [
    "# build the dataset\n",
    "block_size = 3 # context length: how many characters do we take to predict the next one?\n",
    "\n",
    "def build_dataset(words):\n",
    "  X, Y = [], []\n",
    "\n",
    "  for w in words:\n",
    "    context = [0] * block_size\n",
    "    for ch in w + '.':\n",
    "      ix = stoi[ch]\n",
    "      X.append(context)\n",
    "      Y.append(ix)\n",
    "      context = context[1:] + [ix] # crop and append\n",
    "\n",
    "  X = torch.tensor(X)\n",
    "  Y = torch.tensor(Y)\n",
    "  print(X.shape, Y.shape)\n",
    "  return X, Y\n",
    "\n",
    "import random\n",
    "random.seed(42)\n",
    "random.shuffle(words)\n",
    "n1 = int(0.8*len(words))\n",
    "n2 = int(0.9*len(words))\n",
    "\n",
    "Xtr,  Ytr  = build_dataset(words[:n1])     # 80%\n",
    "Xdev, Ydev = build_dataset(words[n1:n2])   # 10%\n",
    "Xte,  Yte  = build_dataset(words[n2:])     # 10%"
   ]
  },
  {
   "cell_type": "code",
   "execution_count": 6,
   "metadata": {},
   "outputs": [],
   "source": [
    "# ok biolerplate done, now we get to the action:"
   ]
  },
  {
   "cell_type": "code",
   "execution_count": 7,
   "metadata": {},
   "outputs": [],
   "source": [
    "# utility function we will use later when comparing manual gradients to PyTorch gradients\n",
    "def cmp(s, dt, t):\n",
    "  ex = torch.all(dt == t.grad).item()\n",
    "  app = torch.allclose(dt, t.grad)\n",
    "  maxdiff = (dt - t.grad).abs().max().item()\n",
    "  print(f'{s:15s} | exact: {str(ex):5s} | approximate: {str(app):5s} | maxdiff: {maxdiff}')"
   ]
  },
  {
   "cell_type": "code",
   "execution_count": 8,
   "metadata": {},
   "outputs": [
    {
     "name": "stdout",
     "output_type": "stream",
     "text": [
      "4137\n"
     ]
    }
   ],
   "source": [
    "n_embd = 10 # the dimensionality of the character embedding vectors\n",
    "n_hidden = 64 # the number of neurons in the hidden layer of the MLP\n",
    "\n",
    "g = torch.Generator().manual_seed(2147483647) # for reproducibility\n",
    "C  = torch.randn((vocab_size, n_embd),            generator=g)\n",
    "# Layer 1\n",
    "W1 = torch.randn((n_embd * block_size, n_hidden), generator=g) * (5/3)/((n_embd * block_size)**0.5)\n",
    "b1 = torch.randn(n_hidden,                        generator=g) * 0.1 # using b1 just for fun, it's useless because of BN\n",
    "# Layer 2\n",
    "W2 = torch.randn((n_hidden, vocab_size),          generator=g) * 0.1\n",
    "b2 = torch.randn(vocab_size,                      generator=g) * 0.1\n",
    "# BatchNorm parameters\n",
    "bngain = torch.randn((1, n_hidden))*0.1 + 1.0\n",
    "bnbias = torch.randn((1, n_hidden))*0.1\n",
    "\n",
    "# Note: I am initializating many of these parameters in non-standard ways\n",
    "# because sometimes initializating with e.g. all zeros could mask an incorrect\n",
    "# implementation of the backward pass.\n",
    "\n",
    "parameters = [C, W1, b1, W2, b2, bngain, bnbias]\n",
    "print(sum(p.nelement() for p in parameters)) # number of parameters in total\n",
    "for p in parameters:\n",
    "  p.requires_grad = True"
   ]
  },
  {
   "cell_type": "code",
   "execution_count": 9,
   "metadata": {},
   "outputs": [],
   "source": [
    "batch_size = 32\n",
    "n = batch_size # a shorter variable also, for convenience\n",
    "# construct a minibatch\n",
    "ix = torch.randint(0, Xtr.shape[0], (batch_size,), generator=g)\n",
    "Xb, Yb = Xtr[ix], Ytr[ix] # batch X,Y"
   ]
  },
  {
   "cell_type": "code",
   "execution_count": 10,
   "metadata": {},
   "outputs": [
    {
     "data": {
      "text/plain": [
       "tensor(3.3332, grad_fn=<NegBackward0>)"
      ]
     },
     "execution_count": 10,
     "metadata": {},
     "output_type": "execute_result"
    }
   ],
   "source": [
    "# forward pass, \"chunkated\" into smaller steps that are possible to backward one at a time\n",
    "\n",
    "emb = C[Xb] # embed the characters into vectors\n",
    "embcat = emb.view(emb.shape[0], -1) # concatenate the vectors\n",
    "# Linear layer 1\n",
    "hprebn = embcat @ W1 + b1 # hidden layer pre-activation\n",
    "# BatchNorm layer\n",
    "bnmeani = 1/n*hprebn.sum(0, keepdim=True)\n",
    "bndiff = hprebn - bnmeani\n",
    "bndiff2 = bndiff**2\n",
    "bnvar = 1/(n-1)*(bndiff2).sum(0, keepdim=True) # note: Bessel's correction (dividing by n-1, not n)\n",
    "bnvar_inv = (bnvar + 1e-5)**-0.5\n",
    "bnraw = bndiff * bnvar_inv\n",
    "hpreact = bngain * bnraw + bnbias\n",
    "# Non-linearity\n",
    "h = torch.tanh(hpreact) # hidden layer\n",
    "# Linear layer 2\n",
    "logits = h @ W2 + b2 # output layer\n",
    "# cross entropy loss (same as F.cross_entropy(logits, Yb))\n",
    "logit_maxes = logits.max(1, keepdim=True).values\n",
    "norm_logits = logits - logit_maxes # subtract max for numerical stability\n",
    "counts = norm_logits.exp()\n",
    "counts_sum = counts.sum(1, keepdims=True)\n",
    "counts_sum_inv = counts_sum**-1 # if I use (1.0 / counts_sum) instead then I can't get backprop to be bit exact...\n",
    "probs = counts * counts_sum_inv\n",
    "logprobs = probs.log()\n",
    "loss = -logprobs[range(n), Yb].mean()\n",
    "\n",
    "# PyTorch backward pass\n",
    "for p in parameters:\n",
    "  p.grad = None\n",
    "for t in [logprobs, probs, counts, counts_sum, counts_sum_inv, # afaik there is no cleaner way\n",
    "          norm_logits, logit_maxes, logits, h, hpreact, bnraw,\n",
    "         bnvar_inv, bnvar, bndiff2, bndiff, hprebn, bnmeani,\n",
    "         embcat, emb]:\n",
    "  t.retain_grad()\n",
    "loss.backward()\n",
    "loss"
   ]
  },
  {
   "cell_type": "code",
   "execution_count": 11,
   "metadata": {},
   "outputs": [
    {
     "data": {
      "text/plain": [
       "tensor([[0.0718, 0.0840, 0.0175, 0.0496, 0.0205, 0.0771, 0.0239, 0.0338, 0.0176,\n",
       "         0.0318, 0.0392, 0.0353, 0.0396, 0.0290, 0.0367, 0.0144, 0.0087, 0.0196,\n",
       "         0.0150, 0.0519, 0.0501, 0.0214, 0.0268, 0.0745, 0.0624, 0.0266, 0.0212],\n",
       "        [0.0532, 0.0526, 0.0968, 0.0509, 0.0346, 0.0322, 0.0186, 0.0459, 0.0172,\n",
       "         0.0264, 0.0547, 0.0463, 0.0541, 0.0297, 0.0479, 0.0373, 0.0247, 0.0151,\n",
       "         0.0198, 0.0377, 0.0183, 0.0221, 0.0148, 0.0629, 0.0239, 0.0378, 0.0245],\n",
       "        [0.0186, 0.0244, 0.0138, 0.0123, 0.0237, 0.0386, 0.0603, 0.0612, 0.0542,\n",
       "         0.0312, 0.0237, 0.0336, 0.0490, 0.0506, 0.0233, 0.0286, 0.0134, 0.0340,\n",
       "         0.0281, 0.1058, 0.0639, 0.0362, 0.0421, 0.0409, 0.0405, 0.0202, 0.0278],\n",
       "        [0.0333, 0.0244, 0.0378, 0.0499, 0.0594, 0.0296, 0.0443, 0.0422, 0.0440,\n",
       "         0.0195, 0.0395, 0.0263, 0.0396, 0.0406, 0.0607, 0.0646, 0.0247, 0.0223,\n",
       "         0.0163, 0.0545, 0.0180, 0.0242, 0.0414, 0.0209, 0.0290, 0.0468, 0.0463],\n",
       "        [0.0165, 0.0177, 0.0229, 0.0232, 0.0177, 0.0398, 0.0361, 0.0176, 0.0516,\n",
       "         0.0365, 0.0374, 0.0162, 0.0393, 0.0237, 0.0451, 0.1789, 0.0188, 0.0471,\n",
       "         0.0470, 0.0587, 0.0418, 0.0149, 0.0207, 0.0157, 0.0456, 0.0223, 0.0469],\n",
       "        [0.0369, 0.0327, 0.0474, 0.0592, 0.0673, 0.0268, 0.0295, 0.0557, 0.0243,\n",
       "         0.0170, 0.0462, 0.0183, 0.0321, 0.0428, 0.0678, 0.0493, 0.0169, 0.0189,\n",
       "         0.0102, 0.0313, 0.0307, 0.0306, 0.0459, 0.0178, 0.0195, 0.0791, 0.0460],\n",
       "        [0.0581, 0.0117, 0.0613, 0.0155, 0.0302, 0.0191, 0.0657, 0.0583, 0.0453,\n",
       "         0.0436, 0.0193, 0.0363, 0.0300, 0.0189, 0.0154, 0.0681, 0.0770, 0.0405,\n",
       "         0.0099, 0.0344, 0.0287, 0.0490, 0.0455, 0.0219, 0.0383, 0.0248, 0.0336],\n",
       "        [0.0435, 0.0299, 0.0222, 0.1072, 0.0283, 0.0518, 0.0303, 0.0869, 0.0358,\n",
       "         0.0091, 0.0282, 0.0148, 0.0216, 0.0534, 0.0187, 0.0160, 0.0135, 0.0136,\n",
       "         0.0156, 0.0930, 0.0356, 0.0502, 0.0282, 0.0339, 0.0267, 0.0545, 0.0373],\n",
       "        [0.0493, 0.0299, 0.0162, 0.0366, 0.0108, 0.0399, 0.0528, 0.0879, 0.0253,\n",
       "         0.0201, 0.0314, 0.0308, 0.0407, 0.0235, 0.0111, 0.0187, 0.0195, 0.0370,\n",
       "         0.0218, 0.0905, 0.0357, 0.0870, 0.0430, 0.0470, 0.0453, 0.0151, 0.0331],\n",
       "        [0.0270, 0.0134, 0.0268, 0.0163, 0.0340, 0.0366, 0.0353, 0.0308, 0.0823,\n",
       "         0.0662, 0.0156, 0.0383, 0.0419, 0.0404, 0.0235, 0.0290, 0.0599, 0.0438,\n",
       "         0.0435, 0.0254, 0.0693, 0.0262, 0.0623, 0.0205, 0.0342, 0.0385, 0.0189],\n",
       "        [0.0147, 0.0079, 0.0371, 0.0398, 0.0321, 0.0338, 0.0186, 0.0066, 0.0346,\n",
       "         0.0472, 0.0267, 0.0189, 0.0588, 0.0305, 0.0386, 0.1541, 0.0520, 0.0529,\n",
       "         0.0770, 0.0359, 0.0437, 0.0100, 0.0123, 0.0246, 0.0394, 0.0275, 0.0247],\n",
       "        [0.0224, 0.0308, 0.0223, 0.1885, 0.0117, 0.0553, 0.0649, 0.0453, 0.0391,\n",
       "         0.0313, 0.0153, 0.0184, 0.0232, 0.0279, 0.0066, 0.0070, 0.0213, 0.0363,\n",
       "         0.0158, 0.0588, 0.0527, 0.0366, 0.0190, 0.0403, 0.0476, 0.0446, 0.0171],\n",
       "        [0.0182, 0.0137, 0.0448, 0.0134, 0.0281, 0.0148, 0.0824, 0.0398, 0.0576,\n",
       "         0.0540, 0.0191, 0.0405, 0.0418, 0.0301, 0.0146, 0.0427, 0.0705, 0.0437,\n",
       "         0.0415, 0.0234, 0.0471, 0.0387, 0.0898, 0.0119, 0.0230, 0.0268, 0.0280],\n",
       "        [0.0239, 0.0286, 0.0458, 0.0181, 0.0170, 0.0688, 0.0273, 0.0156, 0.0277,\n",
       "         0.0501, 0.0318, 0.0349, 0.0762, 0.0375, 0.0506, 0.0466, 0.0281, 0.0316,\n",
       "         0.0790, 0.0143, 0.0618, 0.0149, 0.0179, 0.0387, 0.0361, 0.0392, 0.0380],\n",
       "        [0.0440, 0.0259, 0.0266, 0.0500, 0.0167, 0.0316, 0.0327, 0.0568, 0.0493,\n",
       "         0.0502, 0.0334, 0.0452, 0.0585, 0.0406, 0.0269, 0.0239, 0.0195, 0.0551,\n",
       "         0.0277, 0.0515, 0.0535, 0.0473, 0.0260, 0.0383, 0.0236, 0.0219, 0.0232],\n",
       "        [0.0409, 0.0578, 0.0294, 0.0163, 0.0205, 0.0811, 0.0308, 0.0240, 0.0264,\n",
       "         0.0532, 0.0361, 0.0475, 0.0672, 0.0166, 0.0292, 0.0169, 0.0390, 0.0190,\n",
       "         0.0569, 0.0187, 0.0368, 0.0259, 0.0341, 0.0680, 0.0562, 0.0302, 0.0211],\n",
       "        [0.0302, 0.0231, 0.0793, 0.0400, 0.0609, 0.0498, 0.0160, 0.0281, 0.0180,\n",
       "         0.0203, 0.0539, 0.0233, 0.0446, 0.0567, 0.0701, 0.0630, 0.0139, 0.0154,\n",
       "         0.0236, 0.0463, 0.0251, 0.0164, 0.0099, 0.0465, 0.0257, 0.0455, 0.0543],\n",
       "        [0.0532, 0.0745, 0.0446, 0.0504, 0.0415, 0.0334, 0.0226, 0.0749, 0.0244,\n",
       "         0.0167, 0.0748, 0.0142, 0.0254, 0.0182, 0.0430, 0.0290, 0.0141, 0.0285,\n",
       "         0.0161, 0.0542, 0.0202, 0.0475, 0.0281, 0.0185, 0.0265, 0.0416, 0.0636],\n",
       "        [0.0182, 0.0137, 0.0448, 0.0134, 0.0281, 0.0148, 0.0824, 0.0398, 0.0576,\n",
       "         0.0540, 0.0191, 0.0405, 0.0418, 0.0301, 0.0146, 0.0427, 0.0705, 0.0437,\n",
       "         0.0415, 0.0234, 0.0471, 0.0387, 0.0898, 0.0119, 0.0230, 0.0268, 0.0280],\n",
       "        [0.0215, 0.0224, 0.0323, 0.0155, 0.0379, 0.0292, 0.0738, 0.0514, 0.0315,\n",
       "         0.0345, 0.0329, 0.0415, 0.0636, 0.0563, 0.0143, 0.0252, 0.0278, 0.0194,\n",
       "         0.0297, 0.0873, 0.0483, 0.0314, 0.0410, 0.0505, 0.0325, 0.0225, 0.0263],\n",
       "        [0.0535, 0.0133, 0.0165, 0.0364, 0.0316, 0.0368, 0.0287, 0.0405, 0.0505,\n",
       "         0.0216, 0.0674, 0.0348, 0.0618, 0.0218, 0.0449, 0.0757, 0.0176, 0.0195,\n",
       "         0.0361, 0.0549, 0.0192, 0.0294, 0.0259, 0.0242, 0.0394, 0.0549, 0.0429],\n",
       "        [0.0501, 0.0652, 0.0496, 0.0445, 0.0259, 0.0570, 0.0306, 0.0469, 0.0206,\n",
       "         0.0182, 0.0541, 0.0281, 0.0280, 0.0330, 0.0437, 0.0469, 0.0174, 0.0344,\n",
       "         0.0207, 0.0917, 0.0132, 0.0305, 0.0156, 0.0312, 0.0375, 0.0294, 0.0360],\n",
       "        [0.0182, 0.0137, 0.0448, 0.0134, 0.0281, 0.0148, 0.0824, 0.0398, 0.0576,\n",
       "         0.0540, 0.0191, 0.0405, 0.0418, 0.0301, 0.0146, 0.0427, 0.0705, 0.0437,\n",
       "         0.0415, 0.0234, 0.0471, 0.0387, 0.0898, 0.0119, 0.0230, 0.0268, 0.0280],\n",
       "        [0.0458, 0.0185, 0.0242, 0.0115, 0.0563, 0.0247, 0.0660, 0.0323, 0.0240,\n",
       "         0.0441, 0.0358, 0.0412, 0.0373, 0.0329, 0.0383, 0.0482, 0.0704, 0.0217,\n",
       "         0.0351, 0.0159, 0.0182, 0.0226, 0.1110, 0.0184, 0.0553, 0.0326, 0.0175],\n",
       "        [0.0331, 0.0750, 0.0208, 0.0461, 0.0268, 0.0658, 0.0234, 0.0296, 0.0235,\n",
       "         0.0280, 0.1074, 0.0155, 0.0329, 0.0115, 0.0392, 0.0186, 0.0168, 0.0144,\n",
       "         0.0120, 0.0276, 0.0133, 0.0228, 0.0116, 0.1520, 0.0540, 0.0257, 0.0527],\n",
       "        [0.0636, 0.0281, 0.0146, 0.0181, 0.0285, 0.0808, 0.0401, 0.0314, 0.0256,\n",
       "         0.0342, 0.0338, 0.0550, 0.0631, 0.0329, 0.0198, 0.0138, 0.0319, 0.0210,\n",
       "         0.0554, 0.0147, 0.0266, 0.0215, 0.0708, 0.0504, 0.0684, 0.0444, 0.0114],\n",
       "        [0.0417, 0.0249, 0.0195, 0.0091, 0.0450, 0.0200, 0.0852, 0.0425, 0.0282,\n",
       "         0.0512, 0.0191, 0.0492, 0.0657, 0.0300, 0.0262, 0.0181, 0.0524, 0.0259,\n",
       "         0.0294, 0.0361, 0.0229, 0.0360, 0.1285, 0.0186, 0.0365, 0.0279, 0.0102],\n",
       "        [0.0259, 0.0297, 0.0433, 0.0181, 0.0366, 0.0218, 0.0360, 0.0298, 0.0368,\n",
       "         0.0571, 0.0231, 0.0302, 0.0431, 0.0364, 0.0438, 0.0640, 0.0455, 0.0430,\n",
       "         0.0482, 0.0162, 0.0945, 0.0151, 0.0465, 0.0129, 0.0178, 0.0353, 0.0492],\n",
       "        [0.0608, 0.0389, 0.0136, 0.0179, 0.0340, 0.0579, 0.0425, 0.0396, 0.0103,\n",
       "         0.0264, 0.0467, 0.0289, 0.0269, 0.0214, 0.0266, 0.0335, 0.0729, 0.0274,\n",
       "         0.0650, 0.0271, 0.0334, 0.0294, 0.0440, 0.0615, 0.0807, 0.0119, 0.0208],\n",
       "        [0.0220, 0.0164, 0.0294, 0.0302, 0.0513, 0.0230, 0.0670, 0.0335, 0.0665,\n",
       "         0.0331, 0.0325, 0.0352, 0.0346, 0.0359, 0.0322, 0.0661, 0.0316, 0.0250,\n",
       "         0.0354, 0.0303, 0.0416, 0.0274, 0.0572, 0.0145, 0.0343, 0.0542, 0.0396],\n",
       "        [0.0356, 0.0482, 0.0219, 0.0583, 0.0455, 0.0489, 0.0342, 0.0326, 0.0238,\n",
       "         0.0205, 0.0403, 0.0207, 0.0189, 0.0263, 0.0119, 0.0353, 0.0334, 0.0293,\n",
       "         0.0468, 0.0548, 0.0557, 0.0264, 0.0212, 0.0757, 0.0854, 0.0203, 0.0282],\n",
       "        [0.0459, 0.0234, 0.0617, 0.0161, 0.0761, 0.0269, 0.0172, 0.0252, 0.0137,\n",
       "         0.0631, 0.0312, 0.0325, 0.0382, 0.0745, 0.0395, 0.0407, 0.0484, 0.0407,\n",
       "         0.0427, 0.0136, 0.0546, 0.0103, 0.0607, 0.0231, 0.0210, 0.0393, 0.0197]],\n",
       "       grad_fn=<MulBackward0>)"
      ]
     },
     "execution_count": 11,
     "metadata": {},
     "output_type": "execute_result"
    }
   ],
   "source": [
    "probs"
   ]
  },
  {
   "cell_type": "code",
   "execution_count": 12,
   "metadata": {},
   "outputs": [
    {
     "data": {
      "text/plain": [
       "tensor([ 8, 14, 15, 22,  0, 19,  9, 14,  5,  1, 20,  3,  8, 14, 12,  0, 11,  0,\n",
       "        26,  9, 25,  0,  1,  1,  7, 18,  9,  3,  5,  9,  0, 18])"
      ]
     },
     "execution_count": 12,
     "metadata": {},
     "output_type": "execute_result"
    }
   ],
   "source": [
    "Yb"
   ]
  },
  {
   "cell_type": "code",
   "execution_count": 13,
   "metadata": {},
   "outputs": [
    {
     "data": {
      "text/plain": [
       "<matplotlib.image.AxesImage at 0x7f9dfd14c550>"
      ]
     },
     "execution_count": 13,
     "metadata": {},
     "output_type": "execute_result"
    },
    {
     "data": {
      "image/png": "[encoded data removed]",
      "text/plain": [
       "<Figure size 800x800 with 1 Axes>"
      ]
     },
     "metadata": {},
     "output_type": "display_data"
    }
   ],
   "source": [
    "plt.figure(figsize=(8,8))\n",
    "plt.imshow(probs.grad.detach())"
   ]
  },
  {
   "cell_type": "code",
   "execution_count": 14,
   "metadata": {},
   "outputs": [
    {
     "name": "stdout",
     "output_type": "stream",
     "text": [
      "logprobs        | exact: True  | approximate: True  | maxdiff: 0.0\n",
      "probs           | exact: True  | approximate: True  | maxdiff: 0.0\n",
      "counts_sum_inv  | exact: True  | approximate: True  | maxdiff: 0.0\n",
      "counts_sum      | exact: True  | approximate: True  | maxdiff: 0.0\n",
      "counts          | exact: True  | approximate: True  | maxdiff: 0.0\n",
      "norm_logits     | exact: True  | approximate: True  | maxdiff: 0.0\n",
      "logit_maxes     | exact: True  | approximate: True  | maxdiff: 0.0\n",
      "logits          | exact: True  | approximate: True  | maxdiff: 0.0\n",
      "h               | exact: True  | approximate: True  | maxdiff: 0.0\n",
      "W2              | exact: True  | approximate: True  | maxdiff: 0.0\n",
      "b2              | exact: True  | approximate: True  | maxdiff: 0.0\n",
      "hpreact         | exact: False | approximate: True  | maxdiff: 4.656612873077393e-10\n",
      "bngain          | exact: False | approximate: True  | maxdiff: 1.862645149230957e-09\n",
      "bnbias          | exact: False | approximate: True  | maxdiff: 3.725290298461914e-09\n",
      "bnraw           | exact: False | approximate: True  | maxdiff: 9.313225746154785e-10\n",
      "bnvar_inv       | exact: False | approximate: True  | maxdiff: 3.725290298461914e-09\n",
      "bnvar           | exact: False | approximate: True  | maxdiff: 9.313225746154785e-10\n",
      "bndiff2         | exact: False | approximate: True  | maxdiff: 2.1827872842550278e-11\n",
      "bndiff          | exact: False | approximate: True  | maxdiff: 9.313225746154785e-10\n",
      "bnmeani         | exact: False | approximate: True  | maxdiff: 2.7939677238464355e-09\n",
      "hprebn          | exact: False | approximate: True  | maxdiff: 9.313225746154785e-10\n",
      "embcat          | exact: False | approximate: True  | maxdiff: 1.862645149230957e-09\n",
      "W1              | exact: False | approximate: True  | maxdiff: 5.587935447692871e-09\n",
      "b1              | exact: False | approximate: True  | maxdiff: 3.725290298461914e-09\n",
      "emb             | exact: False | approximate: True  | maxdiff: 1.862645149230957e-09\n",
      "C               | exact: False | approximate: True  | maxdiff: 1.1175870895385742e-08\n"
     ]
    }
   ],
   "source": [
    "# Exercise 1: backprop through the whole thing manually,\n",
    "# backpropagating through exactly all of the variables\n",
    "# as they are defined in the forward pass above, one by one\n",
    "\n",
    "# -----------------\n",
    "# YOUR CODE HERE :)\n",
    "dlogprobs = torch.zeros((32,27))\n",
    "dlogprobs[range(n), Yb] = -1.0 / n\n",
    "#\n",
    "dprobs = dlogprobs / probs\n",
    "#\n",
    "dcounts_sum_inv = dprobs * counts\n",
    "dcounts_sum_inv = dcounts_sum_inv.sum(1, keepdims=True)\n",
    "#\n",
    "dcounts_sum = dcounts_sum_inv * (-1.0 / counts_sum**2)\n",
    "#\n",
    "dcounts = dprobs * counts_sum_inv + dcounts_sum\n",
    "#\n",
    "dnorm_logits = dcounts * norm_logits.exp()\n",
    "#\n",
    "dlogit_maxes = -dnorm_logits.sum(1, keepdims=True)\n",
    "#\n",
    "dlogits = dnorm_logits.clone() + F.one_hot(logits.max(1).indices, num_classes=vocab_size) * dlogit_maxes\n",
    "#\n",
    "dh = dlogits @ torch.t(W2)\n",
    "#\n",
    "dW2 = torch.t(h) @ dlogits\n",
    "#\n",
    "db2 = dlogits.sum(0)\n",
    "#\n",
    "dhpreact = (1.0 - h**2) * dh\n",
    "#\n",
    "dbngain = (dhpreact * bnraw).sum(0, keepdims=True)\n",
    "#\n",
    "dbnbias = dhpreact.sum(0, keepdims=True)\n",
    "#\n",
    "dbnraw = dhpreact * bngain\n",
    "#\n",
    "dbnvar_inv = (dbnraw * bndiff).sum(0, keepdims=True)\n",
    "#\n",
    "dbndiff = dbnraw * bnvar_inv #######\n",
    "#\n",
    "dbnvar = dbnvar_inv * (-0.5 * (bnvar + 1e-5)**-1.5)\n",
    "#\n",
    "dbndiff2 = dbnvar / (n-1)\n",
    "#\n",
    "dbndiff += dbndiff2 * 2 * bndiff\n",
    "#\n",
    "dbnmeani = -dbndiff.sum(0, keepdim=True)\n",
    "#\n",
    "dhprebn = dbndiff.clone()\n",
    "dhprebn += dbnmeani / n\n",
    "#\n",
    "dembcat = dhprebn @ torch.t(W1)\n",
    "#\n",
    "dW1 = torch.t(embcat) @ dhprebn\n",
    "#\n",
    "db1 = dhprebn.sum(0)\n",
    "#\n",
    "demb = dembcat.view(32, 3, 10)\n",
    "#\n",
    "dC = torch.zeros_like(C)\n",
    "for fdim in range(Xb.shape[0]):\n",
    "    for sdim in range(Xb.shape[1]):\n",
    "        dC[Xb[fdim, sdim]] += demb[fdim, sdim]  \n",
    "# -----------------\n",
    "\n",
    "cmp('logprobs', dlogprobs, logprobs)\n",
    "cmp('probs', dprobs, probs)\n",
    "cmp('counts_sum_inv', dcounts_sum_inv, counts_sum_inv)\n",
    "cmp('counts_sum', dcounts_sum, counts_sum)\n",
    "cmp('counts', dcounts, counts)\n",
    "cmp('norm_logits', dnorm_logits, norm_logits)\n",
    "cmp('logit_maxes', dlogit_maxes, logit_maxes)\n",
    "cmp('logits', dlogits, logits)\n",
    "cmp('h', dh, h)\n",
    "cmp('W2', dW2, W2)\n",
    "cmp('b2', db2, b2)\n",
    "cmp('hpreact', dhpreact, hpreact)\n",
    "cmp('bngain', dbngain, bngain)\n",
    "cmp('bnbias', dbnbias, bnbias)\n",
    "cmp('bnraw', dbnraw, bnraw)\n",
    "cmp('bnvar_inv', dbnvar_inv, bnvar_inv)\n",
    "cmp('bnvar', dbnvar, bnvar)\n",
    "cmp('bndiff2', dbndiff2, bndiff2)\n",
    "cmp('bndiff', dbndiff, bndiff)\n",
    "cmp('bnmeani', dbnmeani, bnmeani)\n",
    "cmp('hprebn', dhprebn, hprebn)\n",
    "cmp('embcat', dembcat, embcat)\n",
    "cmp('W1', dW1, W1)\n",
    "cmp('b1', db1, b1)\n",
    "cmp('emb', demb, emb)\n",
    "cmp('C', dC, C)"
   ]
  },
  {
   "cell_type": "code",
   "execution_count": 15,
   "metadata": {},
   "outputs": [
    {
     "name": "stdout",
     "output_type": "stream",
     "text": [
      "3.333174705505371 diff: 0.0\n"
     ]
    }
   ],
   "source": [
    "# Exercise 2: backprop through cross_entropy but all in one go\n",
    "# to complete this challenge look at the mathematical expression of the loss,\n",
    "# take the derivative, simplify the expression, and just write it out\n",
    "\n",
    "# forward pass\n",
    "\n",
    "# before:\n",
    "# logit_maxes = logits.max(1, keepdim=True).values\n",
    "# norm_logits = logits - logit_maxes # subtract max for numerical stability\n",
    "# counts = norm_logits.exp()\n",
    "# counts_sum = counts.sum(1, keepdims=True)\n",
    "# counts_sum_inv = counts_sum**-1 # if I use (1.0 / counts_sum) instead then I can't get backprop to be bit exact...\n",
    "# probs = counts * counts_sum_inv\n",
    "# logprobs = probs.log()\n",
    "# loss = -logprobs[range(n), Yb].mean()\n",
    "\n",
    "# now:\n",
    "loss_fast = F.cross_entropy(logits, Yb)\n",
    "print(loss_fast.item(), 'diff:', (loss_fast - loss).item())"
   ]
  },
  {
   "cell_type": "code",
   "execution_count": 16,
   "metadata": {},
   "outputs": [],
   "source": [
    "dlogits = torch.zeros_like(logits) - (1.0 / n)\n",
    "dlogits[range(n), Yb] -= n\n"
   ]
  },
  {
   "cell_type": "code",
   "execution_count": 17,
   "metadata": {},
   "outputs": [
    {
     "data": {
      "text/plain": [
       "tensor([[ 0.0022,  0.0026,  0.0005,  0.0016,  0.0006,  0.0024,  0.0007,  0.0011,\n",
       "         -0.0307,  0.0010,  0.0012,  0.0011,  0.0012,  0.0009,  0.0011,  0.0005,\n",
       "          0.0003,  0.0006,  0.0005,  0.0016,  0.0016,  0.0007,  0.0008,  0.0023,\n",
       "          0.0019,  0.0008,  0.0007],\n",
       "        [ 0.0017,  0.0016,  0.0030,  0.0016,  0.0011,  0.0010,  0.0006,  0.0014,\n",
       "          0.0005,  0.0008,  0.0017,  0.0014,  0.0017,  0.0009, -0.0298,  0.0012,\n",
       "          0.0008,  0.0005,  0.0006,  0.0012,  0.0006,  0.0007,  0.0005,  0.0020,\n",
       "          0.0007,  0.0012,  0.0008],\n",
       "        [ 0.0006,  0.0008,  0.0004,  0.0004,  0.0007,  0.0012,  0.0019,  0.0019,\n",
       "          0.0017,  0.0010,  0.0007,  0.0010,  0.0015,  0.0016,  0.0007, -0.0304,\n",
       "          0.0004,  0.0011,  0.0009,  0.0033,  0.0020,  0.0011,  0.0013,  0.0013,\n",
       "          0.0013,  0.0006,  0.0009],\n",
       "        [ 0.0010,  0.0008,  0.0012,  0.0016,  0.0019,  0.0009,  0.0014,  0.0013,\n",
       "          0.0014,  0.0006,  0.0012,  0.0008,  0.0012,  0.0013,  0.0019,  0.0020,\n",
       "          0.0008,  0.0007,  0.0005,  0.0017,  0.0006,  0.0008, -0.0300,  0.0007,\n",
       "          0.0009,  0.0015,  0.0014],\n",
       "        [-0.0307,  0.0006,  0.0007,  0.0007,  0.0006,  0.0012,  0.0011,  0.0006,\n",
       "          0.0016,  0.0011,  0.0012,  0.0005,  0.0012,  0.0007,  0.0014,  0.0056,\n",
       "          0.0006,  0.0015,  0.0015,  0.0018,  0.0013,  0.0005,  0.0006,  0.0005,\n",
       "          0.0014,  0.0007,  0.0015],\n",
       "        [ 0.0012,  0.0010,  0.0015,  0.0018,  0.0021,  0.0008,  0.0009,  0.0017,\n",
       "          0.0008,  0.0005,  0.0014,  0.0006,  0.0010,  0.0013,  0.0021,  0.0015,\n",
       "          0.0005,  0.0006,  0.0003, -0.0303,  0.0010,  0.0010,  0.0014,  0.0006,\n",
       "          0.0006,  0.0025,  0.0014],\n",
       "        [ 0.0018,  0.0004,  0.0019,  0.0005,  0.0009,  0.0006,  0.0021,  0.0018,\n",
       "          0.0014, -0.0299,  0.0006,  0.0011,  0.0009,  0.0006,  0.0005,  0.0021,\n",
       "          0.0024,  0.0013,  0.0003,  0.0011,  0.0009,  0.0015,  0.0014,  0.0007,\n",
       "          0.0012,  0.0008,  0.0010],\n",
       "        [ 0.0014,  0.0009,  0.0007,  0.0033,  0.0009,  0.0016,  0.0009,  0.0027,\n",
       "          0.0011,  0.0003,  0.0009,  0.0005,  0.0007,  0.0017, -0.0307,  0.0005,\n",
       "          0.0004,  0.0004,  0.0005,  0.0029,  0.0011,  0.0016,  0.0009,  0.0011,\n",
       "          0.0008,  0.0017,  0.0012],\n",
       "        [ 0.0015,  0.0009,  0.0005,  0.0011,  0.0003, -0.0300,  0.0017,  0.0027,\n",
       "          0.0008,  0.0006,  0.0010,  0.0010,  0.0013,  0.0007,  0.0003,  0.0006,\n",
       "          0.0006,  0.0012,  0.0007,  0.0028,  0.0011,  0.0027,  0.0013,  0.0015,\n",
       "          0.0014,  0.0005,  0.0010],\n",
       "        [ 0.0008, -0.0308,  0.0008,  0.0005,  0.0011,  0.0011,  0.0011,  0.0010,\n",
       "          0.0026,  0.0021,  0.0005,  0.0012,  0.0013,  0.0013,  0.0007,  0.0009,\n",
       "          0.0019,  0.0014,  0.0014,  0.0008,  0.0022,  0.0008,  0.0019,  0.0006,\n",
       "          0.0011,  0.0012,  0.0006],\n",
       "        [ 0.0005,  0.0002,  0.0012,  0.0012,  0.0010,  0.0011,  0.0006,  0.0002,\n",
       "          0.0011,  0.0015,  0.0008,  0.0006,  0.0018,  0.0010,  0.0012,  0.0048,\n",
       "          0.0016,  0.0017,  0.0024,  0.0011, -0.0299,  0.0003,  0.0004,  0.0008,\n",
       "          0.0012,  0.0009,  0.0008],\n",
       "        [ 0.0007,  0.0010,  0.0007, -0.0254,  0.0004,  0.0017,  0.0020,  0.0014,\n",
       "          0.0012,  0.0010,  0.0005,  0.0006,  0.0007,  0.0009,  0.0002,  0.0002,\n",
       "          0.0007,  0.0011,  0.0005,  0.0018,  0.0016,  0.0011,  0.0006,  0.0013,\n",
       "          0.0015,  0.0014,  0.0005],\n",
       "        [ 0.0006,  0.0004,  0.0014,  0.0004,  0.0009,  0.0005,  0.0026,  0.0012,\n",
       "         -0.0295,  0.0017,  0.0006,  0.0013,  0.0013,  0.0009,  0.0005,  0.0013,\n",
       "          0.0022,  0.0014,  0.0013,  0.0007,  0.0015,  0.0012,  0.0028,  0.0004,\n",
       "          0.0007,  0.0008,  0.0009],\n",
       "        [ 0.0007,  0.0009,  0.0014,  0.0006,  0.0005,  0.0022,  0.0009,  0.0005,\n",
       "          0.0009,  0.0016,  0.0010,  0.0011,  0.0024,  0.0012, -0.0297,  0.0015,\n",
       "          0.0009,  0.0010,  0.0025,  0.0004,  0.0019,  0.0005,  0.0006,  0.0012,\n",
       "          0.0011,  0.0012,  0.0012],\n",
       "        [ 0.0014,  0.0008,  0.0008,  0.0016,  0.0005,  0.0010,  0.0010,  0.0018,\n",
       "          0.0015,  0.0016,  0.0010,  0.0014, -0.0294,  0.0013,  0.0008,  0.0007,\n",
       "          0.0006,  0.0017,  0.0009,  0.0016,  0.0017,  0.0015,  0.0008,  0.0012,\n",
       "          0.0007,  0.0007,  0.0007],\n",
       "        [-0.0300,  0.0018,  0.0009,  0.0005,  0.0006,  0.0025,  0.0010,  0.0007,\n",
       "          0.0008,  0.0017,  0.0011,  0.0015,  0.0021,  0.0005,  0.0009,  0.0005,\n",
       "          0.0012,  0.0006,  0.0018,  0.0006,  0.0012,  0.0008,  0.0011,  0.0021,\n",
       "          0.0018,  0.0009,  0.0007],\n",
       "        [ 0.0009,  0.0007,  0.0025,  0.0012,  0.0019,  0.0016,  0.0005,  0.0009,\n",
       "          0.0006,  0.0006,  0.0017, -0.0305,  0.0014,  0.0018,  0.0022,  0.0020,\n",
       "          0.0004,  0.0005,  0.0007,  0.0014,  0.0008,  0.0005,  0.0003,  0.0015,\n",
       "          0.0008,  0.0014,  0.0017],\n",
       "        [-0.0296,  0.0023,  0.0014,  0.0016,  0.0013,  0.0010,  0.0007,  0.0023,\n",
       "          0.0008,  0.0005,  0.0023,  0.0004,  0.0008,  0.0006,  0.0013,  0.0009,\n",
       "          0.0004,  0.0009,  0.0005,  0.0017,  0.0006,  0.0015,  0.0009,  0.0006,\n",
       "          0.0008,  0.0013,  0.0020],\n",
       "        [ 0.0006,  0.0004,  0.0014,  0.0004,  0.0009,  0.0005,  0.0026,  0.0012,\n",
       "          0.0018,  0.0017,  0.0006,  0.0013,  0.0013,  0.0009,  0.0005,  0.0013,\n",
       "          0.0022,  0.0014,  0.0013,  0.0007,  0.0015,  0.0012,  0.0028,  0.0004,\n",
       "          0.0007,  0.0008, -0.0304],\n",
       "        [ 0.0007,  0.0007,  0.0010,  0.0005,  0.0012,  0.0009,  0.0023,  0.0016,\n",
       "          0.0010, -0.0302,  0.0010,  0.0013,  0.0020,  0.0018,  0.0004,  0.0008,\n",
       "          0.0009,  0.0006,  0.0009,  0.0027,  0.0015,  0.0010,  0.0013,  0.0016,\n",
       "          0.0010,  0.0007,  0.0008],\n",
       "        [ 0.0017,  0.0004,  0.0005,  0.0011,  0.0010,  0.0012,  0.0009,  0.0013,\n",
       "          0.0016,  0.0007,  0.0021,  0.0011,  0.0019,  0.0007,  0.0014,  0.0024,\n",
       "          0.0006,  0.0006,  0.0011,  0.0017,  0.0006,  0.0009,  0.0008,  0.0008,\n",
       "          0.0012, -0.0295,  0.0013],\n",
       "        [-0.0297,  0.0020,  0.0015,  0.0014,  0.0008,  0.0018,  0.0010,  0.0015,\n",
       "          0.0006,  0.0006,  0.0017,  0.0009,  0.0009,  0.0010,  0.0014,  0.0015,\n",
       "          0.0005,  0.0011,  0.0006,  0.0029,  0.0004,  0.0010,  0.0005,  0.0010,\n",
       "          0.0012,  0.0009,  0.0011],\n",
       "        [ 0.0006, -0.0308,  0.0014,  0.0004,  0.0009,  0.0005,  0.0026,  0.0012,\n",
       "          0.0018,  0.0017,  0.0006,  0.0013,  0.0013,  0.0009,  0.0005,  0.0013,\n",
       "          0.0022,  0.0014,  0.0013,  0.0007,  0.0015,  0.0012,  0.0028,  0.0004,\n",
       "          0.0007,  0.0008,  0.0009],\n",
       "        [ 0.0014, -0.0307,  0.0008,  0.0004,  0.0018,  0.0008,  0.0021,  0.0010,\n",
       "          0.0007,  0.0014,  0.0011,  0.0013,  0.0012,  0.0010,  0.0012,  0.0015,\n",
       "          0.0022,  0.0007,  0.0011,  0.0005,  0.0006,  0.0007,  0.0035,  0.0006,\n",
       "          0.0017,  0.0010,  0.0005],\n",
       "        [ 0.0010,  0.0023,  0.0006,  0.0014,  0.0008,  0.0021,  0.0007, -0.0303,\n",
       "          0.0007,  0.0009,  0.0034,  0.0005,  0.0010,  0.0004,  0.0012,  0.0006,\n",
       "          0.0005,  0.0005,  0.0004,  0.0009,  0.0004,  0.0007,  0.0004,  0.0047,\n",
       "          0.0017,  0.0008,  0.0016],\n",
       "        [ 0.0020,  0.0009,  0.0005,  0.0006,  0.0009,  0.0025,  0.0013,  0.0010,\n",
       "          0.0008,  0.0011,  0.0011,  0.0017,  0.0020,  0.0010,  0.0006,  0.0004,\n",
       "          0.0010,  0.0007, -0.0295,  0.0005,  0.0008,  0.0007,  0.0022,  0.0016,\n",
       "          0.0021,  0.0014,  0.0004],\n",
       "        [ 0.0013,  0.0008,  0.0006,  0.0003,  0.0014,  0.0006,  0.0027,  0.0013,\n",
       "          0.0009, -0.0297,  0.0006,  0.0015,  0.0021,  0.0009,  0.0008,  0.0006,\n",
       "          0.0016,  0.0008,  0.0009,  0.0011,  0.0007,  0.0011,  0.0040,  0.0006,\n",
       "          0.0011,  0.0009,  0.0003],\n",
       "        [ 0.0008,  0.0009,  0.0014, -0.0307,  0.0011,  0.0007,  0.0011,  0.0009,\n",
       "          0.0011,  0.0018,  0.0007,  0.0009,  0.0013,  0.0011,  0.0014,  0.0020,\n",
       "          0.0014,  0.0013,  0.0015,  0.0005,  0.0030,  0.0005,  0.0015,  0.0004,\n",
       "          0.0006,  0.0011,  0.0015],\n",
       "        [ 0.0019,  0.0012,  0.0004,  0.0006,  0.0011, -0.0294,  0.0013,  0.0012,\n",
       "          0.0003,  0.0008,  0.0015,  0.0009,  0.0008,  0.0007,  0.0008,  0.0010,\n",
       "          0.0023,  0.0009,  0.0020,  0.0008,  0.0010,  0.0009,  0.0014,  0.0019,\n",
       "          0.0025,  0.0004,  0.0006],\n",
       "        [ 0.0007,  0.0005,  0.0009,  0.0009,  0.0016,  0.0007,  0.0021,  0.0010,\n",
       "          0.0021, -0.0302,  0.0010,  0.0011,  0.0011,  0.0011,  0.0010,  0.0021,\n",
       "          0.0010,  0.0008,  0.0011,  0.0009,  0.0013,  0.0009,  0.0018,  0.0005,\n",
       "          0.0011,  0.0017,  0.0012],\n",
       "        [-0.0301,  0.0015,  0.0007,  0.0018,  0.0014,  0.0015,  0.0011,  0.0010,\n",
       "          0.0007,  0.0006,  0.0013,  0.0006,  0.0006,  0.0008,  0.0004,  0.0011,\n",
       "          0.0010,  0.0009,  0.0015,  0.0017,  0.0017,  0.0008,  0.0007,  0.0024,\n",
       "          0.0027,  0.0006,  0.0009],\n",
       "        [ 0.0014,  0.0007,  0.0019,  0.0005,  0.0024,  0.0008,  0.0005,  0.0008,\n",
       "          0.0004,  0.0020,  0.0010,  0.0010,  0.0012,  0.0023,  0.0012,  0.0013,\n",
       "          0.0015,  0.0013, -0.0299,  0.0004,  0.0017,  0.0003,  0.0019,  0.0007,\n",
       "          0.0007,  0.0012,  0.0006]])"
      ]
     },
     "execution_count": 17,
     "metadata": {},
     "output_type": "execute_result"
    }
   ],
   "source": [
    "loss = -((norm_logits-norm_logits.sum(1, keepdim=True))[range(n), Yb]).mean()\n",
    "norm_logits.grad"
   ]
  },
  {
   "cell_type": "code",
   "execution_count": 18,
   "metadata": {},
   "outputs": [
    {
     "name": "stdout",
     "output_type": "stream",
     "text": [
      "logits          | exact: False | approximate: False | maxdiff: 1.0055919885635376\n"
     ]
    }
   ],
   "source": [
    "# backward pass\n",
    "\n",
    "# -----------------\n",
    "# YOUR CODE HERE :)\n",
    "dlogits = torch.zeros_like(logits) - 1.0\n",
    "dlogits[range(n), Yb] += 1.0\n",
    "# -----------------\n",
    "\n",
    "cmp('logits', dlogits, logits) # I can only get approximate to be true, my maxdiff is 6e-9"
   ]
  },
  {
   "cell_type": "code",
   "execution_count": 19,
   "metadata": {},
   "outputs": [
    {
     "name": "stdout",
     "output_type": "stream",
     "text": [
      "max diff: tensor(4.7684e-07, grad_fn=<MaxBackward1>)\n"
     ]
    }
   ],
   "source": [
    "# Exercise 3: backprop through batchnorm but all in one go\n",
    "# to complete this challenge look at the mathematical expression of the output of batchnorm,\n",
    "# take the derivative w.r.t. its input, simplify the expression, and just write it out\n",
    "# BatchNorm paper: https://arxiv.org/abs/1502.03167\n",
    "\n",
    "# forward pass\n",
    "\n",
    "# before:\n",
    "# bnmeani = 1/n*hprebn.sum(0, keepdim=True)\n",
    "# bndiff = hprebn - bnmeani\n",
    "# bndiff2 = bndiff**2\n",
    "# bnvar = 1/(n-1)*(bndiff2).sum(0, keepdim=True) # note: Bessel's correction (dividing by n-1, not n)\n",
    "# bnvar_inv = (bnvar + 1e-5)**-0.5\n",
    "# bnraw = bndiff * bnvar_inv\n",
    "# hpreact = bngain * bnraw + bnbias\n",
    "\n",
    "# now:\n",
    "hpreact_fast = bngain * (hprebn - hprebn.mean(0, keepdim=True)) / torch.sqrt(hprebn.var(0, keepdim=True, unbiased=True) + 1e-5) + bnbias\n",
    "print('max diff:', (hpreact_fast - hpreact).abs().max())"
   ]
  },
  {
   "cell_type": "code",
   "execution_count": 20,
   "metadata": {},
   "outputs": [
    {
     "ename": "TypeError",
     "evalue": "all(): argument 'input' (position 1) must be Tensor, not bool",
     "output_type": "error",
     "traceback": [
      "\u001b[0;31m---------------------------------------------------------------------------\u001b[0m",
      "\u001b[0;31mTypeError\u001b[0m                                 Traceback (most recent call last)",
      "Cell \u001b[0;32mIn[20], line 22\u001b[0m\n\u001b[1;32m     19\u001b[0m dhprebn \u001b[38;5;241m=\u001b[39m \u001b[38;5;28;01mNone\u001b[39;00m \u001b[38;5;66;03m# TODO. my solution is 1 (long) line\u001b[39;00m\n\u001b[1;32m     20\u001b[0m \u001b[38;5;66;03m# -----------------\u001b[39;00m\n\u001b[0;32m---> 22\u001b[0m \u001b[43mcmp\u001b[49m\u001b[43m(\u001b[49m\u001b[38;5;124;43m'\u001b[39;49m\u001b[38;5;124;43mhprebn\u001b[39;49m\u001b[38;5;124;43m'\u001b[39;49m\u001b[43m,\u001b[49m\u001b[43m \u001b[49m\u001b[43mdhprebn\u001b[49m\u001b[43m,\u001b[49m\u001b[43m \u001b[49m\u001b[43mhprebn\u001b[49m\u001b[43m)\u001b[49m \u001b[38;5;66;03m# I can only get approximate to be true, my maxdiff is 9e-10\u001b[39;00m\n",
      "Cell \u001b[0;32mIn[7], line 3\u001b[0m, in \u001b[0;36mcmp\u001b[0;34m(s, dt, t)\u001b[0m\n\u001b[1;32m      2\u001b[0m \u001b[38;5;28;01mdef\u001b[39;00m \u001b[38;5;21mcmp\u001b[39m(s, dt, t):\n\u001b[0;32m----> 3\u001b[0m   ex \u001b[38;5;241m=\u001b[39m \u001b[43mtorch\u001b[49m\u001b[38;5;241;43m.\u001b[39;49m\u001b[43mall\u001b[49m\u001b[43m(\u001b[49m\u001b[43mdt\u001b[49m\u001b[43m \u001b[49m\u001b[38;5;241;43m==\u001b[39;49m\u001b[43m \u001b[49m\u001b[43mt\u001b[49m\u001b[38;5;241;43m.\u001b[39;49m\u001b[43mgrad\u001b[49m\u001b[43m)\u001b[49m\u001b[38;5;241m.\u001b[39mitem()\n\u001b[1;32m      4\u001b[0m   app \u001b[38;5;241m=\u001b[39m torch\u001b[38;5;241m.\u001b[39mallclose(dt, t\u001b[38;5;241m.\u001b[39mgrad)\n\u001b[1;32m      5\u001b[0m   maxdiff \u001b[38;5;241m=\u001b[39m (dt \u001b[38;5;241m-\u001b[39m t\u001b[38;5;241m.\u001b[39mgrad)\u001b[38;5;241m.\u001b[39mabs()\u001b[38;5;241m.\u001b[39mmax()\u001b[38;5;241m.\u001b[39mitem()\n",
      "\u001b[0;31mTypeError\u001b[0m: all(): argument 'input' (position 1) must be Tensor, not bool"
     ]
    }
   ],
   "source": [
    "# backward pass\n",
    "\n",
    "# before we had:\n",
    "# dbnraw = bngain * dhpreact\n",
    "# dbndiff = bnvar_inv * dbnraw\n",
    "# dbnvar_inv = (bndiff * dbnraw).sum(0, keepdim=True)\n",
    "# dbnvar = (-0.5*(bnvar + 1e-5)**-1.5) * dbnvar_inv\n",
    "# dbndiff2 = (1.0/(n-1))*torch.ones_like(bndiff2) * dbnvar\n",
    "# dbndiff += (2*bndiff) * dbndiff2\n",
    "# dhprebn = dbndiff.clone()\n",
    "# dbnmeani = (-dbndiff).sum(0)\n",
    "# dhprebn += 1.0/n * (torch.ones_like(hprebn) * dbnmeani)\n",
    "\n",
    "# calculate dhprebn given dhpreact (i.e. backprop through the batchnorm)\n",
    "# (you'll also need to use some of the variables from the forward pass up above)\n",
    "\n",
    "# -----------------\n",
    "# YOUR CODE HERE :)\n",
    "dhprebn = None # TODO. my solution is 1 (long) line\n",
    "# -----------------\n",
    "\n",
    "cmp('hprebn', dhprebn, hprebn) # I can only get approximate to be true, my maxdiff is 9e-10"
   ]
  },
  {
   "cell_type": "code",
   "execution_count": null,
   "metadata": {},
   "outputs": [],
   "source": [
    "# Exercise 4: putting it all together!\n",
    "# Train the MLP neural net with your own backward pass\n",
    "\n",
    "# init\n",
    "n_embd = 10 # the dimensionality of the character embedding vectors\n",
    "n_hidden = 200 # the number of neurons in the hidden layer of the MLP\n",
    "\n",
    "g = torch.Generator().manual_seed(2147483647) # for reproducibility\n",
    "C  = torch.randn((vocab_size, n_embd),            generator=g)\n",
    "# Layer 1\n",
    "W1 = torch.randn((n_embd * block_size, n_hidden), generator=g) * (5/3)/((n_embd * block_size)**0.5)\n",
    "b1 = torch.randn(n_hidden,                        generator=g) * 0.1\n",
    "# Layer 2\n",
    "W2 = torch.randn((n_hidden, vocab_size),          generator=g) * 0.1\n",
    "b2 = torch.randn(vocab_size,                      generator=g) * 0.1\n",
    "# BatchNorm parameters\n",
    "bngain = torch.randn((1, n_hidden))*0.1 + 1.0\n",
    "bnbias = torch.randn((1, n_hidden))*0.1\n",
    "\n",
    "parameters = [C, W1, b1, W2, b2, bngain, bnbias]\n",
    "print(sum(p.nelement() for p in parameters)) # number of parameters in total\n",
    "for p in parameters:\n",
    "  p.requires_grad = True\n",
    "\n",
    "# same optimization as last time\n",
    "max_steps = 200000\n",
    "batch_size = 32\n",
    "n = batch_size # convenience\n",
    "lossi = []\n",
    "\n",
    "# use this context manager for efficiency once your backward pass is written (TODO)\n",
    "#with torch.no_grad():\n",
    "\n",
    "# kick off optimization\n",
    "for i in range(max_steps):\n",
    "\n",
    "  # minibatch construct\n",
    "  ix = torch.randint(0, Xtr.shape[0], (batch_size,), generator=g)\n",
    "  Xb, Yb = Xtr[ix], Ytr[ix] # batch X,Y\n",
    "\n",
    "  # forward pass\n",
    "  emb = C[Xb] # embed the characters into vectors\n",
    "  embcat = emb.view(emb.shape[0], -1) # concatenate the vectors\n",
    "  # Linear layer\n",
    "  hprebn = embcat @ W1 + b1 # hidden layer pre-activation\n",
    "  # BatchNorm layer\n",
    "  # -------------------------------------------------------------\n",
    "  bnmean = hprebn.mean(0, keepdim=True)\n",
    "  bnvar = hprebn.var(0, keepdim=True, unbiased=True)\n",
    "  bnvar_inv = (bnvar + 1e-5)**-0.5\n",
    "  bnraw = (hprebn - bnmean) * bnvar_inv\n",
    "  hpreact = bngain * bnraw + bnbias\n",
    "  # -------------------------------------------------------------\n",
    "  # Non-linearity\n",
    "  h = torch.tanh(hpreact) # hidden layer\n",
    "  logits = h @ W2 + b2 # output layer\n",
    "  loss = F.cross_entropy(logits, Yb) # loss function\n",
    "\n",
    "  # backward pass\n",
    "  for p in parameters:\n",
    "    p.grad = None\n",
    "  loss.backward() # use this for correctness comparisons, delete it later!\n",
    "\n",
    "  # manual backprop! #swole_doge_meme\n",
    "  # -----------------\n",
    "  # YOUR CODE HERE :)\n",
    "  dC, dW1, db1, dW2, db2, dbngain, dbnbias = None, None, None, None, None, None, None\n",
    "  grads = [dC, dW1, db1, dW2, db2, dbngain, dbnbias]\n",
    "  # -----------------\n",
    "\n",
    "  # update\n",
    "  lr = 0.1 if i < 100000 else 0.01 # step learning rate decay\n",
    "  for p, grad in zip(parameters, grads):\n",
    "    p.data += -lr * p.grad # old way of cheems doge (using PyTorch grad from .backward())\n",
    "    #p.data += -lr * grad # new way of swole doge TODO: enable\n",
    "\n",
    "  # track stats\n",
    "  if i % 10000 == 0: # print every once in a while\n",
    "    print(f'{i:7d}/{max_steps:7d}: {loss.item():.4f}')\n",
    "  lossi.append(loss.log10().item())\n",
    "\n",
    "  if i >= 100: # TODO: delete early breaking when you're ready to train the full net\n",
    "    break"
   ]
  },
  {
   "cell_type": "code",
   "execution_count": null,
   "metadata": {},
   "outputs": [],
   "source": [
    "# useful for checking your gradients\n",
    "# for p,g in zip(parameters, grads):\n",
    "#   cmp(str(tuple(p.shape)), g, p)"
   ]
  },
  {
   "cell_type": "code",
   "execution_count": null,
   "metadata": {},
   "outputs": [],
   "source": [
    "# calibrate the batch norm at the end of training\n",
    "\n",
    "with torch.no_grad():\n",
    "  # pass the training set through\n",
    "  emb = C[Xtr]\n",
    "  embcat = emb.view(emb.shape[0], -1)\n",
    "  hpreact = embcat @ W1 + b1\n",
    "  # measure the mean/std over the entire training set\n",
    "  bnmean = hpreact.mean(0, keepdim=True)\n",
    "  bnvar = hpreact.var(0, keepdim=True, unbiased=True)\n"
   ]
  },
  {
   "cell_type": "code",
   "execution_count": null,
   "metadata": {},
   "outputs": [],
   "source": [
    "# evaluate train and val loss\n",
    "\n",
    "@torch.no_grad() # this decorator disables gradient tracking\n",
    "def split_loss(split):\n",
    "  x,y = {\n",
    "    'train': (Xtr, Ytr),\n",
    "    'val': (Xdev, Ydev),\n",
    "    'test': (Xte, Yte),\n",
    "  }[split]\n",
    "  emb = C[x] # (N, block_size, n_embd)\n",
    "  embcat = emb.view(emb.shape[0], -1) # concat into (N, block_size * n_embd)\n",
    "  hpreact = embcat @ W1 + b1\n",
    "  hpreact = bngain * (hpreact - bnmean) * (bnvar + 1e-5)**-0.5 + bnbias\n",
    "  h = torch.tanh(hpreact) # (N, n_hidden)\n",
    "  logits = h @ W2 + b2 # (N, vocab_size)\n",
    "  loss = F.cross_entropy(logits, y)\n",
    "  print(split, loss.item())\n",
    "\n",
    "split_loss('train')\n",
    "split_loss('val')"
   ]
  },
  {
   "cell_type": "code",
   "execution_count": null,
   "metadata": {},
   "outputs": [],
   "source": [
    "# I achieved:\n",
    "# train 2.0718822479248047\n",
    "# val 2.1162495613098145"
   ]
  },
  {
   "cell_type": "code",
   "execution_count": null,
   "metadata": {},
   "outputs": [],
   "source": [
    "# sample from the model\n",
    "g = torch.Generator().manual_seed(2147483647 + 10)\n",
    "\n",
    "for _ in range(20):\n",
    "\n",
    "    out = []\n",
    "    context = [0] * block_size # initialize with all ...\n",
    "    while True:\n",
    "      # forward pass\n",
    "      emb = C[torch.tensor([context])] # (1,block_size,d)\n",
    "      embcat = emb.view(emb.shape[0], -1) # concat into (N, block_size * n_embd)\n",
    "      hpreact = embcat @ W1 + b1\n",
    "      hpreact = bngain * (hpreact - bnmean) * (bnvar + 1e-5)**-0.5 + bnbias\n",
    "      h = torch.tanh(hpreact) # (N, n_hidden)\n",
    "      logits = h @ W2 + b2 # (N, vocab_size)\n",
    "      # sample\n",
    "      probs = F.softmax(logits, dim=1)\n",
    "      ix = torch.multinomial(probs, num_samples=1, generator=g).item()\n",
    "      context = context[1:] + [ix]\n",
    "      out.append(ix)\n",
    "      if ix == 0:\n",
    "        break\n",
    "\n",
    "    print(''.join(itos[i] for i in out))"
   ]
  }
 ],
 "metadata": {
  "kernelspec": {
   "display_name": "micrograd",
   "language": "python",
   "name": "python3"
  },
  "language_info": {
   "codemirror_mode": {
    "name": "ipython",
    "version": 3
   },
   "file_extension": ".py",
   "mimetype": "text/x-python",
   "name": "python",
   "nbconvert_exporter": "python",
   "pygments_lexer": "ipython3",
   "version": "3.10.12"
  }
 },
 "nbformat": 4,
 "nbformat_minor": 2
}
